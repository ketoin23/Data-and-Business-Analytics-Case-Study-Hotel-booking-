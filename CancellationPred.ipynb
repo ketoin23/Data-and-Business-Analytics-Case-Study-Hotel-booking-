{
 "cells": [
  {
   "cell_type": "code",
   "execution_count": 1,
   "id": "64cebebc",
   "metadata": {
    "_cell_guid": "b1076dfc-b9ad-4769-8c92-a6c4dae69d19",
    "_uuid": "8f2839f25d086af736a60e9eeb907d3b93b6e0e5",
    "execution": {
     "iopub.execute_input": "2022-06-25T17:35:46.176247Z",
     "iopub.status.busy": "2022-06-25T17:35:46.174908Z",
     "iopub.status.idle": "2022-06-25T17:35:47.325275Z",
     "shell.execute_reply": "2022-06-25T17:35:47.324473Z",
     "shell.execute_reply.started": "2022-06-25T17:05:39.862112Z"
    },
    "papermill": {
     "duration": 1.19687,
     "end_time": "2022-06-25T17:35:47.325465",
     "exception": false,
     "start_time": "2022-06-25T17:35:46.128595",
     "status": "completed"
    },
    "tags": []
   },
   "outputs": [
    {
     "name": "stdout",
     "output_type": "stream",
     "text": [
      "/kaggle/input/hotel-booking-demand/hotel_bookings.csv\n"
     ]
    }
   ],
   "source": [
    "# This Python 3 environment comes with many helpful analytics libraries installed\n",
    "# It is defined by the kaggle/python Docker image: https://github.com/kaggle/docker-python\n",
    "# For example, here's several helpful packages to load\n",
    "\n",
    "import numpy as np # linear algebra\n",
    "import pandas as pd # data processing, CSV file I/O (e.g. pd.read_csv)\n",
    "import matplotlib.pyplot as plt\n",
    "import seaborn as sns\n",
    "\n",
    "%matplotlib inline\n",
    "\n",
    "# Input data files are available in the read-only \"../input/\" directory\n",
    "# For example, running this (by clicking run or pressing Shift+Enter) will list all files under the input directory\n",
    "\n",
    "import os\n",
    "for dirname, _, filenames in os.walk('/kaggle/input'):\n",
    "    for filename in filenames:\n",
    "        print(os.path.join(dirname, filename))\n",
    "\n",
    "# You can write up to 20GB to the current directory (/kaggle/working/) that gets preserved as output when you create a version using \"Save & Run All\" \n",
    "# You can also write temporary files to /kaggle/temp/, but they won't be saved outside of the current session"
   ]
  },
  {
   "cell_type": "markdown",
   "id": "a494d5e5",
   "metadata": {
    "papermill": {
     "duration": 0.043464,
     "end_time": "2022-06-25T17:35:47.414183",
     "exception": false,
     "start_time": "2022-06-25T17:35:47.370719",
     "status": "completed"
    },
    "tags": []
   },
   "source": [
    "**Loading data**"
   ]
  },
  {
   "cell_type": "code",
   "execution_count": 2,
   "id": "1097d4fd",
   "metadata": {
    "execution": {
     "iopub.execute_input": "2022-06-25T17:35:47.503748Z",
     "iopub.status.busy": "2022-06-25T17:35:47.502674Z",
     "iopub.status.idle": "2022-06-25T17:35:48.136836Z",
     "shell.execute_reply": "2022-06-25T17:35:48.138261Z",
     "shell.execute_reply.started": "2022-06-25T17:05:40.916091Z"
    },
    "papermill": {
     "duration": 0.681048,
     "end_time": "2022-06-25T17:35:48.138467",
     "exception": false,
     "start_time": "2022-06-25T17:35:47.457419",
     "status": "completed"
    },
    "tags": []
   },
   "outputs": [
    {
     "data": {
      "text/html": [
       "<div>\n",
       "<style scoped>\n",
       "    .dataframe tbody tr th:only-of-type {\n",
       "        vertical-align: middle;\n",
       "    }\n",
       "\n",
       "    .dataframe tbody tr th {\n",
       "        vertical-align: top;\n",
       "    }\n",
       "\n",
       "    .dataframe thead th {\n",
       "        text-align: right;\n",
       "    }\n",
       "</style>\n",
       "<table border=\"1\" class=\"dataframe\">\n",
       "  <thead>\n",
       "    <tr style=\"text-align: right;\">\n",
       "      <th></th>\n",
       "      <th>hotel</th>\n",
       "      <th>is_canceled</th>\n",
       "      <th>lead_time</th>\n",
       "      <th>arrival_date_year</th>\n",
       "      <th>arrival_date_month</th>\n",
       "      <th>arrival_date_week_number</th>\n",
       "      <th>arrival_date_day_of_month</th>\n",
       "      <th>stays_in_weekend_nights</th>\n",
       "      <th>stays_in_week_nights</th>\n",
       "      <th>adults</th>\n",
       "      <th>...</th>\n",
       "      <th>deposit_type</th>\n",
       "      <th>agent</th>\n",
       "      <th>company</th>\n",
       "      <th>days_in_waiting_list</th>\n",
       "      <th>customer_type</th>\n",
       "      <th>adr</th>\n",
       "      <th>required_car_parking_spaces</th>\n",
       "      <th>total_of_special_requests</th>\n",
       "      <th>reservation_status</th>\n",
       "      <th>reservation_status_date</th>\n",
       "    </tr>\n",
       "  </thead>\n",
       "  <tbody>\n",
       "    <tr>\n",
       "      <th>0</th>\n",
       "      <td>Resort Hotel</td>\n",
       "      <td>0</td>\n",
       "      <td>342</td>\n",
       "      <td>2015</td>\n",
       "      <td>July</td>\n",
       "      <td>27</td>\n",
       "      <td>1</td>\n",
       "      <td>0</td>\n",
       "      <td>0</td>\n",
       "      <td>2</td>\n",
       "      <td>...</td>\n",
       "      <td>No Deposit</td>\n",
       "      <td>NaN</td>\n",
       "      <td>NaN</td>\n",
       "      <td>0</td>\n",
       "      <td>Transient</td>\n",
       "      <td>0.0</td>\n",
       "      <td>0</td>\n",
       "      <td>0</td>\n",
       "      <td>Check-Out</td>\n",
       "      <td>2015-07-01</td>\n",
       "    </tr>\n",
       "    <tr>\n",
       "      <th>1</th>\n",
       "      <td>Resort Hotel</td>\n",
       "      <td>0</td>\n",
       "      <td>737</td>\n",
       "      <td>2015</td>\n",
       "      <td>July</td>\n",
       "      <td>27</td>\n",
       "      <td>1</td>\n",
       "      <td>0</td>\n",
       "      <td>0</td>\n",
       "      <td>2</td>\n",
       "      <td>...</td>\n",
       "      <td>No Deposit</td>\n",
       "      <td>NaN</td>\n",
       "      <td>NaN</td>\n",
       "      <td>0</td>\n",
       "      <td>Transient</td>\n",
       "      <td>0.0</td>\n",
       "      <td>0</td>\n",
       "      <td>0</td>\n",
       "      <td>Check-Out</td>\n",
       "      <td>2015-07-01</td>\n",
       "    </tr>\n",
       "    <tr>\n",
       "      <th>2</th>\n",
       "      <td>Resort Hotel</td>\n",
       "      <td>0</td>\n",
       "      <td>7</td>\n",
       "      <td>2015</td>\n",
       "      <td>July</td>\n",
       "      <td>27</td>\n",
       "      <td>1</td>\n",
       "      <td>0</td>\n",
       "      <td>1</td>\n",
       "      <td>1</td>\n",
       "      <td>...</td>\n",
       "      <td>No Deposit</td>\n",
       "      <td>NaN</td>\n",
       "      <td>NaN</td>\n",
       "      <td>0</td>\n",
       "      <td>Transient</td>\n",
       "      <td>75.0</td>\n",
       "      <td>0</td>\n",
       "      <td>0</td>\n",
       "      <td>Check-Out</td>\n",
       "      <td>2015-07-02</td>\n",
       "    </tr>\n",
       "    <tr>\n",
       "      <th>3</th>\n",
       "      <td>Resort Hotel</td>\n",
       "      <td>0</td>\n",
       "      <td>13</td>\n",
       "      <td>2015</td>\n",
       "      <td>July</td>\n",
       "      <td>27</td>\n",
       "      <td>1</td>\n",
       "      <td>0</td>\n",
       "      <td>1</td>\n",
       "      <td>1</td>\n",
       "      <td>...</td>\n",
       "      <td>No Deposit</td>\n",
       "      <td>304.0</td>\n",
       "      <td>NaN</td>\n",
       "      <td>0</td>\n",
       "      <td>Transient</td>\n",
       "      <td>75.0</td>\n",
       "      <td>0</td>\n",
       "      <td>0</td>\n",
       "      <td>Check-Out</td>\n",
       "      <td>2015-07-02</td>\n",
       "    </tr>\n",
       "    <tr>\n",
       "      <th>4</th>\n",
       "      <td>Resort Hotel</td>\n",
       "      <td>0</td>\n",
       "      <td>14</td>\n",
       "      <td>2015</td>\n",
       "      <td>July</td>\n",
       "      <td>27</td>\n",
       "      <td>1</td>\n",
       "      <td>0</td>\n",
       "      <td>2</td>\n",
       "      <td>2</td>\n",
       "      <td>...</td>\n",
       "      <td>No Deposit</td>\n",
       "      <td>240.0</td>\n",
       "      <td>NaN</td>\n",
       "      <td>0</td>\n",
       "      <td>Transient</td>\n",
       "      <td>98.0</td>\n",
       "      <td>0</td>\n",
       "      <td>1</td>\n",
       "      <td>Check-Out</td>\n",
       "      <td>2015-07-03</td>\n",
       "    </tr>\n",
       "  </tbody>\n",
       "</table>\n",
       "<p>5 rows × 32 columns</p>\n",
       "</div>"
      ],
      "text/plain": [
       "          hotel  is_canceled  lead_time  arrival_date_year arrival_date_month  \\\n",
       "0  Resort Hotel            0        342               2015               July   \n",
       "1  Resort Hotel            0        737               2015               July   \n",
       "2  Resort Hotel            0          7               2015               July   \n",
       "3  Resort Hotel            0         13               2015               July   \n",
       "4  Resort Hotel            0         14               2015               July   \n",
       "\n",
       "   arrival_date_week_number  arrival_date_day_of_month  \\\n",
       "0                        27                          1   \n",
       "1                        27                          1   \n",
       "2                        27                          1   \n",
       "3                        27                          1   \n",
       "4                        27                          1   \n",
       "\n",
       "   stays_in_weekend_nights  stays_in_week_nights  adults  ...  deposit_type  \\\n",
       "0                        0                     0       2  ...    No Deposit   \n",
       "1                        0                     0       2  ...    No Deposit   \n",
       "2                        0                     1       1  ...    No Deposit   \n",
       "3                        0                     1       1  ...    No Deposit   \n",
       "4                        0                     2       2  ...    No Deposit   \n",
       "\n",
       "   agent company days_in_waiting_list customer_type   adr  \\\n",
       "0    NaN     NaN                    0     Transient   0.0   \n",
       "1    NaN     NaN                    0     Transient   0.0   \n",
       "2    NaN     NaN                    0     Transient  75.0   \n",
       "3  304.0     NaN                    0     Transient  75.0   \n",
       "4  240.0     NaN                    0     Transient  98.0   \n",
       "\n",
       "   required_car_parking_spaces  total_of_special_requests  reservation_status  \\\n",
       "0                            0                          0           Check-Out   \n",
       "1                            0                          0           Check-Out   \n",
       "2                            0                          0           Check-Out   \n",
       "3                            0                          0           Check-Out   \n",
       "4                            0                          1           Check-Out   \n",
       "\n",
       "  reservation_status_date  \n",
       "0              2015-07-01  \n",
       "1              2015-07-01  \n",
       "2              2015-07-02  \n",
       "3              2015-07-02  \n",
       "4              2015-07-03  \n",
       "\n",
       "[5 rows x 32 columns]"
      ]
     },
     "execution_count": 2,
     "metadata": {},
     "output_type": "execute_result"
    }
   ],
   "source": [
    "df = pd.read_csv('../input/hotel-booking-demand/hotel_bookings.csv')\n",
    "df.head()"
   ]
  },
  {
   "cell_type": "code",
   "execution_count": 3,
   "id": "fd7003b6",
   "metadata": {
    "execution": {
     "iopub.execute_input": "2022-06-25T17:35:48.232936Z",
     "iopub.status.busy": "2022-06-25T17:35:48.232207Z",
     "iopub.status.idle": "2022-06-25T17:35:48.387056Z",
     "shell.execute_reply": "2022-06-25T17:35:48.386430Z",
     "shell.execute_reply.started": "2022-06-25T17:05:41.518225Z"
    },
    "papermill": {
     "duration": 0.205346,
     "end_time": "2022-06-25T17:35:48.387210",
     "exception": false,
     "start_time": "2022-06-25T17:35:48.181864",
     "status": "completed"
    },
    "tags": []
   },
   "outputs": [
    {
     "name": "stdout",
     "output_type": "stream",
     "text": [
      "<class 'pandas.core.frame.DataFrame'>\n",
      "RangeIndex: 119390 entries, 0 to 119389\n",
      "Data columns (total 32 columns):\n",
      " #   Column                          Non-Null Count   Dtype  \n",
      "---  ------                          --------------   -----  \n",
      " 0   hotel                           119390 non-null  object \n",
      " 1   is_canceled                     119390 non-null  int64  \n",
      " 2   lead_time                       119390 non-null  int64  \n",
      " 3   arrival_date_year               119390 non-null  int64  \n",
      " 4   arrival_date_month              119390 non-null  object \n",
      " 5   arrival_date_week_number        119390 non-null  int64  \n",
      " 6   arrival_date_day_of_month       119390 non-null  int64  \n",
      " 7   stays_in_weekend_nights         119390 non-null  int64  \n",
      " 8   stays_in_week_nights            119390 non-null  int64  \n",
      " 9   adults                          119390 non-null  int64  \n",
      " 10  children                        119386 non-null  float64\n",
      " 11  babies                          119390 non-null  int64  \n",
      " 12  meal                            119390 non-null  object \n",
      " 13  country                         118902 non-null  object \n",
      " 14  market_segment                  119390 non-null  object \n",
      " 15  distribution_channel            119390 non-null  object \n",
      " 16  is_repeated_guest               119390 non-null  int64  \n",
      " 17  previous_cancellations          119390 non-null  int64  \n",
      " 18  previous_bookings_not_canceled  119390 non-null  int64  \n",
      " 19  reserved_room_type              119390 non-null  object \n",
      " 20  assigned_room_type              119390 non-null  object \n",
      " 21  booking_changes                 119390 non-null  int64  \n",
      " 22  deposit_type                    119390 non-null  object \n",
      " 23  agent                           103050 non-null  float64\n",
      " 24  company                         6797 non-null    float64\n",
      " 25  days_in_waiting_list            119390 non-null  int64  \n",
      " 26  customer_type                   119390 non-null  object \n",
      " 27  adr                             119390 non-null  float64\n",
      " 28  required_car_parking_spaces     119390 non-null  int64  \n",
      " 29  total_of_special_requests       119390 non-null  int64  \n",
      " 30  reservation_status              119390 non-null  object \n",
      " 31  reservation_status_date         119390 non-null  object \n",
      "dtypes: float64(4), int64(16), object(12)\n",
      "memory usage: 29.1+ MB\n"
     ]
    }
   ],
   "source": [
    "df.info()"
   ]
  },
  {
   "cell_type": "code",
   "execution_count": 4,
   "id": "e7e372a4",
   "metadata": {
    "execution": {
     "iopub.execute_input": "2022-06-25T17:35:48.517613Z",
     "iopub.status.busy": "2022-06-25T17:35:48.516419Z",
     "iopub.status.idle": "2022-06-25T17:35:48.666896Z",
     "shell.execute_reply": "2022-06-25T17:35:48.667455Z",
     "shell.execute_reply.started": "2022-06-25T17:05:41.609363Z"
    },
    "papermill": {
     "duration": 0.228692,
     "end_time": "2022-06-25T17:35:48.667676",
     "exception": false,
     "start_time": "2022-06-25T17:35:48.438984",
     "status": "completed"
    },
    "tags": []
   },
   "outputs": [
    {
     "data": {
      "text/html": [
       "<div>\n",
       "<style scoped>\n",
       "    .dataframe tbody tr th:only-of-type {\n",
       "        vertical-align: middle;\n",
       "    }\n",
       "\n",
       "    .dataframe tbody tr th {\n",
       "        vertical-align: top;\n",
       "    }\n",
       "\n",
       "    .dataframe thead th {\n",
       "        text-align: right;\n",
       "    }\n",
       "</style>\n",
       "<table border=\"1\" class=\"dataframe\">\n",
       "  <thead>\n",
       "    <tr style=\"text-align: right;\">\n",
       "      <th></th>\n",
       "      <th>is_canceled</th>\n",
       "      <th>lead_time</th>\n",
       "      <th>arrival_date_year</th>\n",
       "      <th>arrival_date_week_number</th>\n",
       "      <th>arrival_date_day_of_month</th>\n",
       "      <th>stays_in_weekend_nights</th>\n",
       "      <th>stays_in_week_nights</th>\n",
       "      <th>adults</th>\n",
       "      <th>children</th>\n",
       "      <th>babies</th>\n",
       "      <th>is_repeated_guest</th>\n",
       "      <th>previous_cancellations</th>\n",
       "      <th>previous_bookings_not_canceled</th>\n",
       "      <th>booking_changes</th>\n",
       "      <th>agent</th>\n",
       "      <th>company</th>\n",
       "      <th>days_in_waiting_list</th>\n",
       "      <th>adr</th>\n",
       "      <th>required_car_parking_spaces</th>\n",
       "      <th>total_of_special_requests</th>\n",
       "    </tr>\n",
       "  </thead>\n",
       "  <tbody>\n",
       "    <tr>\n",
       "      <th>count</th>\n",
       "      <td>119390.000000</td>\n",
       "      <td>119390.000000</td>\n",
       "      <td>119390.000000</td>\n",
       "      <td>119390.000000</td>\n",
       "      <td>119390.000000</td>\n",
       "      <td>119390.000000</td>\n",
       "      <td>119390.000000</td>\n",
       "      <td>119390.000000</td>\n",
       "      <td>119386.000000</td>\n",
       "      <td>119390.000000</td>\n",
       "      <td>119390.000000</td>\n",
       "      <td>119390.000000</td>\n",
       "      <td>119390.000000</td>\n",
       "      <td>119390.000000</td>\n",
       "      <td>103050.000000</td>\n",
       "      <td>6797.000000</td>\n",
       "      <td>119390.000000</td>\n",
       "      <td>119390.000000</td>\n",
       "      <td>119390.000000</td>\n",
       "      <td>119390.000000</td>\n",
       "    </tr>\n",
       "    <tr>\n",
       "      <th>mean</th>\n",
       "      <td>0.370416</td>\n",
       "      <td>104.011416</td>\n",
       "      <td>2016.156554</td>\n",
       "      <td>27.165173</td>\n",
       "      <td>15.798241</td>\n",
       "      <td>0.927599</td>\n",
       "      <td>2.500302</td>\n",
       "      <td>1.856403</td>\n",
       "      <td>0.103890</td>\n",
       "      <td>0.007949</td>\n",
       "      <td>0.031912</td>\n",
       "      <td>0.087118</td>\n",
       "      <td>0.137097</td>\n",
       "      <td>0.221124</td>\n",
       "      <td>86.693382</td>\n",
       "      <td>189.266735</td>\n",
       "      <td>2.321149</td>\n",
       "      <td>101.831122</td>\n",
       "      <td>0.062518</td>\n",
       "      <td>0.571363</td>\n",
       "    </tr>\n",
       "    <tr>\n",
       "      <th>std</th>\n",
       "      <td>0.482918</td>\n",
       "      <td>106.863097</td>\n",
       "      <td>0.707476</td>\n",
       "      <td>13.605138</td>\n",
       "      <td>8.780829</td>\n",
       "      <td>0.998613</td>\n",
       "      <td>1.908286</td>\n",
       "      <td>0.579261</td>\n",
       "      <td>0.398561</td>\n",
       "      <td>0.097436</td>\n",
       "      <td>0.175767</td>\n",
       "      <td>0.844336</td>\n",
       "      <td>1.497437</td>\n",
       "      <td>0.652306</td>\n",
       "      <td>110.774548</td>\n",
       "      <td>131.655015</td>\n",
       "      <td>17.594721</td>\n",
       "      <td>50.535790</td>\n",
       "      <td>0.245291</td>\n",
       "      <td>0.792798</td>\n",
       "    </tr>\n",
       "    <tr>\n",
       "      <th>min</th>\n",
       "      <td>0.000000</td>\n",
       "      <td>0.000000</td>\n",
       "      <td>2015.000000</td>\n",
       "      <td>1.000000</td>\n",
       "      <td>1.000000</td>\n",
       "      <td>0.000000</td>\n",
       "      <td>0.000000</td>\n",
       "      <td>0.000000</td>\n",
       "      <td>0.000000</td>\n",
       "      <td>0.000000</td>\n",
       "      <td>0.000000</td>\n",
       "      <td>0.000000</td>\n",
       "      <td>0.000000</td>\n",
       "      <td>0.000000</td>\n",
       "      <td>1.000000</td>\n",
       "      <td>6.000000</td>\n",
       "      <td>0.000000</td>\n",
       "      <td>-6.380000</td>\n",
       "      <td>0.000000</td>\n",
       "      <td>0.000000</td>\n",
       "    </tr>\n",
       "    <tr>\n",
       "      <th>25%</th>\n",
       "      <td>0.000000</td>\n",
       "      <td>18.000000</td>\n",
       "      <td>2016.000000</td>\n",
       "      <td>16.000000</td>\n",
       "      <td>8.000000</td>\n",
       "      <td>0.000000</td>\n",
       "      <td>1.000000</td>\n",
       "      <td>2.000000</td>\n",
       "      <td>0.000000</td>\n",
       "      <td>0.000000</td>\n",
       "      <td>0.000000</td>\n",
       "      <td>0.000000</td>\n",
       "      <td>0.000000</td>\n",
       "      <td>0.000000</td>\n",
       "      <td>9.000000</td>\n",
       "      <td>62.000000</td>\n",
       "      <td>0.000000</td>\n",
       "      <td>69.290000</td>\n",
       "      <td>0.000000</td>\n",
       "      <td>0.000000</td>\n",
       "    </tr>\n",
       "    <tr>\n",
       "      <th>50%</th>\n",
       "      <td>0.000000</td>\n",
       "      <td>69.000000</td>\n",
       "      <td>2016.000000</td>\n",
       "      <td>28.000000</td>\n",
       "      <td>16.000000</td>\n",
       "      <td>1.000000</td>\n",
       "      <td>2.000000</td>\n",
       "      <td>2.000000</td>\n",
       "      <td>0.000000</td>\n",
       "      <td>0.000000</td>\n",
       "      <td>0.000000</td>\n",
       "      <td>0.000000</td>\n",
       "      <td>0.000000</td>\n",
       "      <td>0.000000</td>\n",
       "      <td>14.000000</td>\n",
       "      <td>179.000000</td>\n",
       "      <td>0.000000</td>\n",
       "      <td>94.575000</td>\n",
       "      <td>0.000000</td>\n",
       "      <td>0.000000</td>\n",
       "    </tr>\n",
       "    <tr>\n",
       "      <th>75%</th>\n",
       "      <td>1.000000</td>\n",
       "      <td>160.000000</td>\n",
       "      <td>2017.000000</td>\n",
       "      <td>38.000000</td>\n",
       "      <td>23.000000</td>\n",
       "      <td>2.000000</td>\n",
       "      <td>3.000000</td>\n",
       "      <td>2.000000</td>\n",
       "      <td>0.000000</td>\n",
       "      <td>0.000000</td>\n",
       "      <td>0.000000</td>\n",
       "      <td>0.000000</td>\n",
       "      <td>0.000000</td>\n",
       "      <td>0.000000</td>\n",
       "      <td>229.000000</td>\n",
       "      <td>270.000000</td>\n",
       "      <td>0.000000</td>\n",
       "      <td>126.000000</td>\n",
       "      <td>0.000000</td>\n",
       "      <td>1.000000</td>\n",
       "    </tr>\n",
       "    <tr>\n",
       "      <th>max</th>\n",
       "      <td>1.000000</td>\n",
       "      <td>737.000000</td>\n",
       "      <td>2017.000000</td>\n",
       "      <td>53.000000</td>\n",
       "      <td>31.000000</td>\n",
       "      <td>19.000000</td>\n",
       "      <td>50.000000</td>\n",
       "      <td>55.000000</td>\n",
       "      <td>10.000000</td>\n",
       "      <td>10.000000</td>\n",
       "      <td>1.000000</td>\n",
       "      <td>26.000000</td>\n",
       "      <td>72.000000</td>\n",
       "      <td>21.000000</td>\n",
       "      <td>535.000000</td>\n",
       "      <td>543.000000</td>\n",
       "      <td>391.000000</td>\n",
       "      <td>5400.000000</td>\n",
       "      <td>8.000000</td>\n",
       "      <td>5.000000</td>\n",
       "    </tr>\n",
       "  </tbody>\n",
       "</table>\n",
       "</div>"
      ],
      "text/plain": [
       "         is_canceled      lead_time  arrival_date_year  \\\n",
       "count  119390.000000  119390.000000      119390.000000   \n",
       "mean        0.370416     104.011416        2016.156554   \n",
       "std         0.482918     106.863097           0.707476   \n",
       "min         0.000000       0.000000        2015.000000   \n",
       "25%         0.000000      18.000000        2016.000000   \n",
       "50%         0.000000      69.000000        2016.000000   \n",
       "75%         1.000000     160.000000        2017.000000   \n",
       "max         1.000000     737.000000        2017.000000   \n",
       "\n",
       "       arrival_date_week_number  arrival_date_day_of_month  \\\n",
       "count             119390.000000              119390.000000   \n",
       "mean                  27.165173                  15.798241   \n",
       "std                   13.605138                   8.780829   \n",
       "min                    1.000000                   1.000000   \n",
       "25%                   16.000000                   8.000000   \n",
       "50%                   28.000000                  16.000000   \n",
       "75%                   38.000000                  23.000000   \n",
       "max                   53.000000                  31.000000   \n",
       "\n",
       "       stays_in_weekend_nights  stays_in_week_nights         adults  \\\n",
       "count            119390.000000         119390.000000  119390.000000   \n",
       "mean                  0.927599              2.500302       1.856403   \n",
       "std                   0.998613              1.908286       0.579261   \n",
       "min                   0.000000              0.000000       0.000000   \n",
       "25%                   0.000000              1.000000       2.000000   \n",
       "50%                   1.000000              2.000000       2.000000   \n",
       "75%                   2.000000              3.000000       2.000000   \n",
       "max                  19.000000             50.000000      55.000000   \n",
       "\n",
       "            children         babies  is_repeated_guest  \\\n",
       "count  119386.000000  119390.000000      119390.000000   \n",
       "mean        0.103890       0.007949           0.031912   \n",
       "std         0.398561       0.097436           0.175767   \n",
       "min         0.000000       0.000000           0.000000   \n",
       "25%         0.000000       0.000000           0.000000   \n",
       "50%         0.000000       0.000000           0.000000   \n",
       "75%         0.000000       0.000000           0.000000   \n",
       "max        10.000000      10.000000           1.000000   \n",
       "\n",
       "       previous_cancellations  previous_bookings_not_canceled  \\\n",
       "count           119390.000000                   119390.000000   \n",
       "mean                 0.087118                        0.137097   \n",
       "std                  0.844336                        1.497437   \n",
       "min                  0.000000                        0.000000   \n",
       "25%                  0.000000                        0.000000   \n",
       "50%                  0.000000                        0.000000   \n",
       "75%                  0.000000                        0.000000   \n",
       "max                 26.000000                       72.000000   \n",
       "\n",
       "       booking_changes          agent      company  days_in_waiting_list  \\\n",
       "count    119390.000000  103050.000000  6797.000000         119390.000000   \n",
       "mean          0.221124      86.693382   189.266735              2.321149   \n",
       "std           0.652306     110.774548   131.655015             17.594721   \n",
       "min           0.000000       1.000000     6.000000              0.000000   \n",
       "25%           0.000000       9.000000    62.000000              0.000000   \n",
       "50%           0.000000      14.000000   179.000000              0.000000   \n",
       "75%           0.000000     229.000000   270.000000              0.000000   \n",
       "max          21.000000     535.000000   543.000000            391.000000   \n",
       "\n",
       "                 adr  required_car_parking_spaces  total_of_special_requests  \n",
       "count  119390.000000                119390.000000              119390.000000  \n",
       "mean      101.831122                     0.062518                   0.571363  \n",
       "std        50.535790                     0.245291                   0.792798  \n",
       "min        -6.380000                     0.000000                   0.000000  \n",
       "25%        69.290000                     0.000000                   0.000000  \n",
       "50%        94.575000                     0.000000                   0.000000  \n",
       "75%       126.000000                     0.000000                   1.000000  \n",
       "max      5400.000000                     8.000000                   5.000000  "
      ]
     },
     "execution_count": 4,
     "metadata": {},
     "output_type": "execute_result"
    }
   ],
   "source": [
    "df.describe()"
   ]
  },
  {
   "cell_type": "markdown",
   "id": "77599270",
   "metadata": {
    "papermill": {
     "duration": 0.050925,
     "end_time": "2022-06-25T17:35:48.769949",
     "exception": false,
     "start_time": "2022-06-25T17:35:48.719024",
     "status": "completed"
    },
    "tags": []
   },
   "source": [
    "**Separating \"reservation_status_date\" into year, month and day**"
   ]
  },
  {
   "cell_type": "code",
   "execution_count": 5,
   "id": "082a8663",
   "metadata": {
    "execution": {
     "iopub.execute_input": "2022-06-25T17:35:48.876732Z",
     "iopub.status.busy": "2022-06-25T17:35:48.875609Z",
     "iopub.status.idle": "2022-06-25T17:35:48.953945Z",
     "shell.execute_reply": "2022-06-25T17:35:48.954804Z",
     "shell.execute_reply.started": "2022-06-25T17:05:41.737573Z"
    },
    "papermill": {
     "duration": 0.14016,
     "end_time": "2022-06-25T17:35:48.955075",
     "exception": false,
     "start_time": "2022-06-25T17:35:48.814915",
     "status": "completed"
    },
    "tags": []
   },
   "outputs": [],
   "source": [
    "df['reservation_status_date'] = pd.to_datetime(df['reservation_status_date'])\n",
    "\n",
    "df['year'] = df['reservation_status_date'].dt.year\n",
    "df['month'] = df['reservation_status_date'].dt.month\n",
    "df['day'] = df['reservation_status_date'].dt.day"
   ]
  },
  {
   "cell_type": "markdown",
   "id": "d2b96b43",
   "metadata": {
    "papermill": {
     "duration": 0.043598,
     "end_time": "2022-06-25T17:35:49.047807",
     "exception": false,
     "start_time": "2022-06-25T17:35:49.004209",
     "status": "completed"
    },
    "tags": []
   },
   "source": [
    "*Dropping reservation_status**(duplicate column)** and reservation_status_date(**seperated into day, month and year**)*"
   ]
  },
  {
   "cell_type": "code",
   "execution_count": 6,
   "id": "9395f24c",
   "metadata": {
    "execution": {
     "iopub.execute_input": "2022-06-25T17:35:49.140155Z",
     "iopub.status.busy": "2022-06-25T17:35:49.139157Z",
     "iopub.status.idle": "2022-06-25T17:35:49.182566Z",
     "shell.execute_reply": "2022-06-25T17:35:49.183392Z",
     "shell.execute_reply.started": "2022-06-25T17:05:41.806281Z"
    },
    "papermill": {
     "duration": 0.092041,
     "end_time": "2022-06-25T17:35:49.183678",
     "exception": false,
     "start_time": "2022-06-25T17:35:49.091637",
     "status": "completed"
    },
    "tags": []
   },
   "outputs": [],
   "source": [
    "df = df.drop([\"reservation_status\",\"reservation_status_date\",],axis=1)"
   ]
  },
  {
   "cell_type": "code",
   "execution_count": 7,
   "id": "8a05dd34",
   "metadata": {
    "execution": {
     "iopub.execute_input": "2022-06-25T17:35:49.278882Z",
     "iopub.status.busy": "2022-06-25T17:35:49.278127Z",
     "iopub.status.idle": "2022-06-25T17:35:49.406695Z",
     "shell.execute_reply": "2022-06-25T17:35:49.405985Z",
     "shell.execute_reply.started": "2022-06-25T17:05:41.847574Z"
    },
    "papermill": {
     "duration": 0.175863,
     "end_time": "2022-06-25T17:35:49.406877",
     "exception": false,
     "start_time": "2022-06-25T17:35:49.231014",
     "status": "completed"
    },
    "tags": []
   },
   "outputs": [
    {
     "name": "stdout",
     "output_type": "stream",
     "text": [
      "                                Null Values(in %)\n",
      "company                                 94.306893\n",
      "agent                                   13.686238\n",
      "country                                  0.408744\n",
      "children                                 0.003350\n",
      "hotel                                    0.000000\n",
      "assigned_room_type                       0.000000\n",
      "booking_changes                          0.000000\n",
      "deposit_type                             0.000000\n",
      "days_in_waiting_list                     0.000000\n",
      "previous_bookings_not_canceled           0.000000\n",
      "customer_type                            0.000000\n",
      "adr                                      0.000000\n",
      "required_car_parking_spaces              0.000000\n",
      "total_of_special_requests                0.000000\n",
      "year                                     0.000000\n",
      "month                                    0.000000\n",
      "reserved_room_type                       0.000000\n",
      "is_repeated_guest                        0.000000\n",
      "previous_cancellations                   0.000000\n",
      "is_canceled                              0.000000\n",
      "distribution_channel                     0.000000\n",
      "market_segment                           0.000000\n",
      "meal                                     0.000000\n",
      "babies                                   0.000000\n",
      "adults                                   0.000000\n",
      "stays_in_week_nights                     0.000000\n",
      "stays_in_weekend_nights                  0.000000\n",
      "arrival_date_day_of_month                0.000000\n",
      "arrival_date_week_number                 0.000000\n",
      "arrival_date_month                       0.000000\n",
      "arrival_date_year                        0.000000\n",
      "lead_time                                0.000000\n",
      "day                                      0.000000\n"
     ]
    }
   ],
   "source": [
    "print(pd.DataFrame({'Null Values(in %)' : (df.isna().sum()) / (df.shape[0]) * (100)}).sort_values(ascending = False, by='Null Values(in %)'))\n"
   ]
  },
  {
   "cell_type": "markdown",
   "id": "a4397b2b",
   "metadata": {
    "papermill": {
     "duration": 0.044866,
     "end_time": "2022-06-25T17:35:49.496132",
     "exception": false,
     "start_time": "2022-06-25T17:35:49.451266",
     "status": "completed"
    },
    "tags": []
   },
   "source": [
    "*Dropping company and agent (***High percentage of NaN***)*"
   ]
  },
  {
   "cell_type": "code",
   "execution_count": 8,
   "id": "143e45f8",
   "metadata": {
    "execution": {
     "iopub.execute_input": "2022-06-25T17:35:49.593626Z",
     "iopub.status.busy": "2022-06-25T17:35:49.592128Z",
     "iopub.status.idle": "2022-06-25T17:35:49.613879Z",
     "shell.execute_reply": "2022-06-25T17:35:49.613145Z",
     "shell.execute_reply.started": "2022-06-25T17:05:41.910281Z"
    },
    "papermill": {
     "duration": 0.072712,
     "end_time": "2022-06-25T17:35:49.614049",
     "exception": false,
     "start_time": "2022-06-25T17:35:49.541337",
     "status": "completed"
    },
    "tags": []
   },
   "outputs": [],
   "source": [
    "df = df.drop([\"company\",\"agent\"],axis=1)"
   ]
  },
  {
   "cell_type": "markdown",
   "id": "161712b3",
   "metadata": {
    "papermill": {
     "duration": 0.044689,
     "end_time": "2022-06-25T17:35:49.702664",
     "exception": false,
     "start_time": "2022-06-25T17:35:49.657975",
     "status": "completed"
    },
    "tags": []
   },
   "source": [
    "*Filling NaN with 0 in children and with \"UNKNOWN\" in country*"
   ]
  },
  {
   "cell_type": "code",
   "execution_count": 9,
   "id": "7214a781",
   "metadata": {
    "execution": {
     "iopub.execute_input": "2022-06-25T17:35:49.807928Z",
     "iopub.status.busy": "2022-06-25T17:35:49.806723Z",
     "iopub.status.idle": "2022-06-25T17:35:49.810454Z",
     "shell.execute_reply": "2022-06-25T17:35:49.811138Z",
     "shell.execute_reply.started": "2022-06-25T17:05:41.935062Z"
    },
    "papermill": {
     "duration": 0.064662,
     "end_time": "2022-06-25T17:35:49.811343",
     "exception": false,
     "start_time": "2022-06-25T17:35:49.746681",
     "status": "completed"
    },
    "tags": []
   },
   "outputs": [],
   "source": [
    "df[\"children\"].fillna(0,inplace = True)\n",
    "df[\"country\"].fillna(\"UNKNOWN\",inplace = True)"
   ]
  },
  {
   "cell_type": "code",
   "execution_count": 10,
   "id": "03a966c1",
   "metadata": {
    "execution": {
     "iopub.execute_input": "2022-06-25T17:35:49.904380Z",
     "iopub.status.busy": "2022-06-25T17:35:49.903344Z",
     "iopub.status.idle": "2022-06-25T17:35:52.683068Z",
     "shell.execute_reply": "2022-06-25T17:35:52.683648Z",
     "shell.execute_reply.started": "2022-06-25T17:05:41.947674Z"
    },
    "papermill": {
     "duration": 2.827236,
     "end_time": "2022-06-25T17:35:52.683862",
     "exception": false,
     "start_time": "2022-06-25T17:35:49.856626",
     "status": "completed"
    },
    "tags": []
   },
   "outputs": [
    {
     "data": {
      "image/png": "[encoded data removed]",
      "text/plain": [
       "<Figure size 1728x864 with 2 Axes>"
      ]
     },
     "metadata": {
      "needs_background": "light"
     },
     "output_type": "display_data"
    }
   ],
   "source": [
    "corr = abs(df.corr())\n",
    "plt.figure(figsize = (24, 12))\n",
    "sns.heatmap(corr,vmin = 0.1, annot = True)\n",
    "plt.show()"
   ]
  },
  {
   "cell_type": "code",
   "execution_count": 11,
   "id": "f4b1fcdb",
   "metadata": {
    "execution": {
     "iopub.execute_input": "2022-06-25T17:35:52.785718Z",
     "iopub.status.busy": "2022-06-25T17:35:52.785011Z",
     "iopub.status.idle": "2022-06-25T17:35:52.791964Z",
     "shell.execute_reply": "2022-06-25T17:35:52.792566Z",
     "shell.execute_reply.started": "2022-06-25T17:05:44.1406Z"
    },
    "papermill": {
     "duration": 0.059873,
     "end_time": "2022-06-25T17:35:52.792750",
     "exception": false,
     "start_time": "2022-06-25T17:35:52.732877",
     "status": "completed"
    },
    "tags": []
   },
   "outputs": [
    {
     "name": "stdout",
     "output_type": "stream",
     "text": [
      "is_canceled                       1.000000\n",
      "lead_time                         0.293123\n",
      "total_of_special_requests         0.234658\n",
      "required_car_parking_spaces       0.195498\n",
      "booking_changes                   0.144381\n",
      "year                              0.117036\n",
      "previous_cancellations            0.110133\n",
      "is_repeated_guest                 0.084793\n",
      "month                             0.068605\n",
      "adults                            0.060017\n",
      "previous_bookings_not_canceled    0.057358\n",
      "days_in_waiting_list              0.054186\n",
      "adr                               0.047557\n",
      "day                               0.034131\n",
      "babies                            0.032491\n",
      "stays_in_week_nights              0.024765\n",
      "arrival_date_year                 0.016660\n",
      "arrival_date_week_number          0.008148\n",
      "arrival_date_day_of_month         0.006130\n",
      "children                          0.005036\n",
      "stays_in_weekend_nights           0.001791\n",
      "Name: is_canceled, dtype: float64\n"
     ]
    }
   ],
   "source": [
    "print(corr['is_canceled'].sort_values(ascending = False))"
   ]
  },
  {
   "cell_type": "markdown",
   "id": "36f53971",
   "metadata": {
    "papermill": {
     "duration": 0.049248,
     "end_time": "2022-06-25T17:35:52.889915",
     "exception": false,
     "start_time": "2022-06-25T17:35:52.840667",
     "status": "completed"
    },
    "tags": []
   },
   "source": [
    "*Seperating data into categorical columns and numerical columns*"
   ]
  },
  {
   "cell_type": "code",
   "execution_count": 12,
   "id": "5f253dc6",
   "metadata": {
    "execution": {
     "iopub.execute_input": "2022-06-25T17:35:52.995067Z",
     "iopub.status.busy": "2022-06-25T17:35:52.994331Z",
     "iopub.status.idle": "2022-06-25T17:35:53.024560Z",
     "shell.execute_reply": "2022-06-25T17:35:53.025235Z",
     "shell.execute_reply.started": "2022-06-25T17:05:44.149676Z"
    },
    "papermill": {
     "duration": 0.087688,
     "end_time": "2022-06-25T17:35:53.025429",
     "exception": false,
     "start_time": "2022-06-25T17:35:52.937741",
     "status": "completed"
    },
    "tags": []
   },
   "outputs": [],
   "source": [
    "cat_columns = []\n",
    "for col in df.columns:\n",
    "    if df[col].dtype == 'O':\n",
    "        cat_columns.append(col)\n",
    "cat_df = df[cat_columns]\n",
    "cat_df1 = df[cat_columns]\n",
    "num_df = df.drop(cat_columns,axis=1)"
   ]
  },
  {
   "cell_type": "markdown",
   "id": "a241967e",
   "metadata": {
    "papermill": {
     "duration": 0.04795,
     "end_time": "2022-06-25T17:35:53.122365",
     "exception": false,
     "start_time": "2022-06-25T17:35:53.074415",
     "status": "completed"
    },
    "tags": []
   },
   "source": [
    "*Printing categories present in categorical columns*"
   ]
  },
  {
   "cell_type": "code",
   "execution_count": 13,
   "id": "52a691c1",
   "metadata": {
    "execution": {
     "iopub.execute_input": "2022-06-25T17:35:53.232002Z",
     "iopub.status.busy": "2022-06-25T17:35:53.231193Z",
     "iopub.status.idle": "2022-06-25T17:35:53.312115Z",
     "shell.execute_reply": "2022-06-25T17:35:53.312634Z",
     "shell.execute_reply.started": "2022-06-25T17:05:44.193425Z"
    },
    "papermill": {
     "duration": 0.142231,
     "end_time": "2022-06-25T17:35:53.312822",
     "exception": false,
     "start_time": "2022-06-25T17:35:53.170591",
     "status": "completed"
    },
    "tags": []
   },
   "outputs": [
    {
     "name": "stdout",
     "output_type": "stream",
     "text": [
      "hotel:\n",
      "['Resort Hotel' 'City Hotel']\n",
      "\n",
      "arrival_date_month:\n",
      "['July' 'August' 'September' 'October' 'November' 'December' 'January'\n",
      " 'February' 'March' 'April' 'May' 'June']\n",
      "\n",
      "meal:\n",
      "['BB' 'FB' 'HB' 'SC' 'Undefined']\n",
      "\n",
      "country:\n",
      "['PRT' 'GBR' 'USA' 'ESP' 'IRL' 'FRA' 'UNKNOWN' 'ROU' 'NOR' 'OMN' 'ARG'\n",
      " 'POL' 'DEU' 'BEL' 'CHE' 'CN' 'GRC' 'ITA' 'NLD' 'DNK' 'RUS' 'SWE' 'AUS'\n",
      " 'EST' 'CZE' 'BRA' 'FIN' 'MOZ' 'BWA' 'LUX' 'SVN' 'ALB' 'IND' 'CHN' 'MEX'\n",
      " 'MAR' 'UKR' 'SMR' 'LVA' 'PRI' 'SRB' 'CHL' 'AUT' 'BLR' 'LTU' 'TUR' 'ZAF'\n",
      " 'AGO' 'ISR' 'CYM' 'ZMB' 'CPV' 'ZWE' 'DZA' 'KOR' 'CRI' 'HUN' 'ARE' 'TUN'\n",
      " 'JAM' 'HRV' 'HKG' 'IRN' 'GEO' 'AND' 'GIB' 'URY' 'JEY' 'CAF' 'CYP' 'COL'\n",
      " 'GGY' 'KWT' 'NGA' 'MDV' 'VEN' 'SVK' 'FJI' 'KAZ' 'PAK' 'IDN' 'LBN' 'PHL'\n",
      " 'SEN' 'SYC' 'AZE' 'BHR' 'NZL' 'THA' 'DOM' 'MKD' 'MYS' 'ARM' 'JPN' 'LKA'\n",
      " 'CUB' 'CMR' 'BIH' 'MUS' 'COM' 'SUR' 'UGA' 'BGR' 'CIV' 'JOR' 'SYR' 'SGP'\n",
      " 'BDI' 'SAU' 'VNM' 'PLW' 'QAT' 'EGY' 'PER' 'MLT' 'MWI' 'ECU' 'MDG' 'ISL'\n",
      " 'UZB' 'NPL' 'BHS' 'MAC' 'TGO' 'TWN' 'DJI' 'STP' 'KNA' 'ETH' 'IRQ' 'HND'\n",
      " 'RWA' 'KHM' 'MCO' 'BGD' 'IMN' 'TJK' 'NIC' 'BEN' 'VGB' 'TZA' 'GAB' 'GHA'\n",
      " 'TMP' 'GLP' 'KEN' 'LIE' 'GNB' 'MNE' 'UMI' 'MYT' 'FRO' 'MMR' 'PAN' 'BFA'\n",
      " 'LBY' 'MLI' 'NAM' 'BOL' 'PRY' 'BRB' 'ABW' 'AIA' 'SLV' 'DMA' 'PYF' 'GUY'\n",
      " 'LCA' 'ATA' 'GTM' 'ASM' 'MRT' 'NCL' 'KIR' 'SDN' 'ATF' 'SLE' 'LAO']\n",
      "\n",
      "market_segment:\n",
      "['Direct' 'Corporate' 'Online TA' 'Offline TA/TO' 'Complementary' 'Groups'\n",
      " 'Undefined' 'Aviation']\n",
      "\n",
      "distribution_channel:\n",
      "['Direct' 'Corporate' 'TA/TO' 'Undefined' 'GDS']\n",
      "\n",
      "reserved_room_type:\n",
      "['C' 'A' 'D' 'E' 'G' 'F' 'H' 'L' 'P' 'B']\n",
      "\n",
      "assigned_room_type:\n",
      "['C' 'A' 'D' 'E' 'G' 'F' 'I' 'B' 'H' 'P' 'L' 'K']\n",
      "\n",
      "deposit_type:\n",
      "['No Deposit' 'Refundable' 'Non Refund']\n",
      "\n",
      "customer_type:\n",
      "['Transient' 'Contract' 'Transient-Party' 'Group']\n",
      "\n"
     ]
    }
   ],
   "source": [
    "for column in cat_df.columns:\n",
    "    print(f\"{column}:\\n{cat_df[column].unique()}\\n\")\n"
   ]
  },
  {
   "cell_type": "markdown",
   "id": "eddaf86b",
   "metadata": {
    "papermill": {
     "duration": 0.049124,
     "end_time": "2022-06-25T17:35:53.412346",
     "exception": false,
     "start_time": "2022-06-25T17:35:53.363222",
     "status": "completed"
    },
    "tags": []
   },
   "source": [
    "*Encoding categorical columns with One_Hot_Encoder*"
   ]
  },
  {
   "cell_type": "code",
   "execution_count": 14,
   "id": "1bb6e07b",
   "metadata": {
    "execution": {
     "iopub.execute_input": "2022-06-25T17:35:53.520327Z",
     "iopub.status.busy": "2022-06-25T17:35:53.519270Z",
     "iopub.status.idle": "2022-06-25T17:35:54.385290Z",
     "shell.execute_reply": "2022-06-25T17:35:54.384692Z",
     "shell.execute_reply.started": "2022-06-25T17:05:44.268902Z"
    },
    "papermill": {
     "duration": 0.923734,
     "end_time": "2022-06-25T17:35:54.385457",
     "exception": false,
     "start_time": "2022-06-25T17:35:53.461723",
     "status": "completed"
    },
    "tags": []
   },
   "outputs": [],
   "source": [
    "from sklearn.preprocessing import OneHotEncoder\n",
    "one_hot_encoder = OneHotEncoder(handle_unknown=\"ignore\")\n",
    "cat_df = one_hot_encoder.fit_transform(cat_df)\n",
    "cat_df = pd.DataFrame(cat_df.toarray())\n"
   ]
  },
  {
   "cell_type": "markdown",
   "id": "08859645",
   "metadata": {
    "papermill": {
     "duration": 0.049231,
     "end_time": "2022-06-25T17:35:54.484663",
     "exception": false,
     "start_time": "2022-06-25T17:35:54.435432",
     "status": "completed"
    },
    "tags": []
   },
   "source": [
    "*Encoding categorical columns with Ordinal_Encoder*\n"
   ]
  },
  {
   "cell_type": "code",
   "execution_count": 15,
   "id": "629e2d27",
   "metadata": {
    "execution": {
     "iopub.execute_input": "2022-06-25T17:35:54.593183Z",
     "iopub.status.busy": "2022-06-25T17:35:54.587131Z",
     "iopub.status.idle": "2022-06-25T17:35:55.029418Z",
     "shell.execute_reply": "2022-06-25T17:35:55.029964Z",
     "shell.execute_reply.started": "2022-06-25T17:05:45.004633Z"
    },
    "papermill": {
     "duration": 0.496625,
     "end_time": "2022-06-25T17:35:55.030164",
     "exception": false,
     "start_time": "2022-06-25T17:35:54.533539",
     "status": "completed"
    },
    "tags": []
   },
   "outputs": [],
   "source": [
    "from sklearn.preprocessing import OrdinalEncoder\n",
    "ordinal_encoder = OrdinalEncoder()\n",
    "cat_df1 = ordinal_encoder.fit_transform(cat_df1)\n",
    "cat_df1 = pd.DataFrame(cat_df1)"
   ]
  },
  {
   "cell_type": "markdown",
   "id": "88fb1b63",
   "metadata": {
    "papermill": {
     "duration": 0.0516,
     "end_time": "2022-06-25T17:35:55.133397",
     "exception": false,
     "start_time": "2022-06-25T17:35:55.081797",
     "status": "completed"
    },
    "tags": []
   },
   "source": [
    "*Joining categorical and numerical columns into a single dataframe*"
   ]
  },
  {
   "cell_type": "code",
   "execution_count": 16,
   "id": "412b4446",
   "metadata": {
    "execution": {
     "iopub.execute_input": "2022-06-25T17:35:55.241958Z",
     "iopub.status.busy": "2022-06-25T17:35:55.241201Z",
     "iopub.status.idle": "2022-06-25T17:35:55.586453Z",
     "shell.execute_reply": "2022-06-25T17:35:55.585872Z",
     "shell.execute_reply.started": "2022-06-25T17:05:45.27674Z"
    },
    "papermill": {
     "duration": 0.400513,
     "end_time": "2022-06-25T17:35:55.586636",
     "exception": false,
     "start_time": "2022-06-25T17:35:55.186123",
     "status": "completed"
    },
    "tags": []
   },
   "outputs": [],
   "source": [
    "df = pd.concat([cat_df,num_df], axis=1)\n",
    "df1 = pd.concat([cat_df1,num_df], axis=1)"
   ]
  },
  {
   "cell_type": "markdown",
   "id": "10edf9df",
   "metadata": {
    "papermill": {
     "duration": 0.04945,
     "end_time": "2022-06-25T17:35:55.685564",
     "exception": false,
     "start_time": "2022-06-25T17:35:55.636114",
     "status": "completed"
    },
    "tags": []
   },
   "source": [
    "*Creating training and testing set with equal representation of every month*"
   ]
  },
  {
   "cell_type": "code",
   "execution_count": 17,
   "id": "edc5330c",
   "metadata": {
    "execution": {
     "iopub.execute_input": "2022-06-25T17:35:55.788644Z",
     "iopub.status.busy": "2022-06-25T17:35:55.787785Z",
     "iopub.status.idle": "2022-06-25T17:35:55.977589Z",
     "shell.execute_reply": "2022-06-25T17:35:55.976853Z",
     "shell.execute_reply.started": "2022-06-25T17:05:45.730137Z"
    },
    "papermill": {
     "duration": 0.243293,
     "end_time": "2022-06-25T17:35:55.977749",
     "exception": false,
     "start_time": "2022-06-25T17:35:55.734456",
     "status": "completed"
    },
    "tags": []
   },
   "outputs": [],
   "source": [
    "import sklearn\n",
    "from sklearn.model_selection import StratifiedShuffleSplit\n",
    "split = StratifiedShuffleSplit(n_splits=1, test_size=0.2, random_state=42)"
   ]
  },
  {
   "cell_type": "code",
   "execution_count": 18,
   "id": "f125050c",
   "metadata": {
    "execution": {
     "iopub.execute_input": "2022-06-25T17:35:56.084182Z",
     "iopub.status.busy": "2022-06-25T17:35:56.083386Z",
     "iopub.status.idle": "2022-06-25T17:35:56.723716Z",
     "shell.execute_reply": "2022-06-25T17:35:56.722970Z",
     "shell.execute_reply.started": "2022-06-25T17:05:45.907423Z"
    },
    "papermill": {
     "duration": 0.697587,
     "end_time": "2022-06-25T17:35:56.723894",
     "exception": false,
     "start_time": "2022-06-25T17:35:56.026307",
     "status": "completed"
    },
    "tags": []
   },
   "outputs": [],
   "source": [
    "for train_index, test_index in split.split(df, df[\"month\"]):\n",
    "        train_set = df.loc[train_index]\n",
    "        test_set = df.loc[test_index]\n",
    "        \n",
    "for train_index, test_index in split.split(df1, df1[\"month\"]):\n",
    "        train_set1 = df1.loc[train_index]\n",
    "        test_set1 = df1.loc[test_index]"
   ]
  },
  {
   "cell_type": "code",
   "execution_count": 19,
   "id": "e24790ff",
   "metadata": {
    "execution": {
     "iopub.execute_input": "2022-06-25T17:35:56.829659Z",
     "iopub.status.busy": "2022-06-25T17:35:56.828924Z",
     "iopub.status.idle": "2022-06-25T17:35:56.843601Z",
     "shell.execute_reply": "2022-06-25T17:35:56.842981Z",
     "shell.execute_reply.started": "2022-06-25T17:05:46.472128Z"
    },
    "papermill": {
     "duration": 0.069742,
     "end_time": "2022-06-25T17:35:56.843763",
     "exception": false,
     "start_time": "2022-06-25T17:35:56.774021",
     "status": "completed"
    },
    "tags": []
   },
   "outputs": [
    {
     "data": {
      "text/html": [
       "<div>\n",
       "<style scoped>\n",
       "    .dataframe tbody tr th:only-of-type {\n",
       "        vertical-align: middle;\n",
       "    }\n",
       "\n",
       "    .dataframe tbody tr th {\n",
       "        vertical-align: top;\n",
       "    }\n",
       "\n",
       "    .dataframe thead th {\n",
       "        text-align: right;\n",
       "    }\n",
       "</style>\n",
       "<table border=\"1\" class=\"dataframe\">\n",
       "  <thead>\n",
       "    <tr style=\"text-align: right;\">\n",
       "      <th></th>\n",
       "      <th>test_set</th>\n",
       "      <th>train_set</th>\n",
       "    </tr>\n",
       "  </thead>\n",
       "  <tbody>\n",
       "    <tr>\n",
       "      <th>7</th>\n",
       "      <td>0.101390</td>\n",
       "      <td>0.101401</td>\n",
       "    </tr>\n",
       "    <tr>\n",
       "      <th>8</th>\n",
       "      <td>0.094229</td>\n",
       "      <td>0.094219</td>\n",
       "    </tr>\n",
       "    <tr>\n",
       "      <th>10</th>\n",
       "      <td>0.093350</td>\n",
       "      <td>0.093329</td>\n",
       "    </tr>\n",
       "    <tr>\n",
       "      <th>1</th>\n",
       "      <td>0.089455</td>\n",
       "      <td>0.089465</td>\n",
       "    </tr>\n",
       "    <tr>\n",
       "      <th>5</th>\n",
       "      <td>0.086314</td>\n",
       "      <td>0.086303</td>\n",
       "    </tr>\n",
       "    <tr>\n",
       "      <th>3</th>\n",
       "      <td>0.085686</td>\n",
       "      <td>0.085686</td>\n",
       "    </tr>\n",
       "    <tr>\n",
       "      <th>4</th>\n",
       "      <td>0.083759</td>\n",
       "      <td>0.083749</td>\n",
       "    </tr>\n",
       "    <tr>\n",
       "      <th>2</th>\n",
       "      <td>0.079571</td>\n",
       "      <td>0.079550</td>\n",
       "    </tr>\n",
       "    <tr>\n",
       "      <th>9</th>\n",
       "      <td>0.078734</td>\n",
       "      <td>0.078765</td>\n",
       "    </tr>\n",
       "    <tr>\n",
       "      <th>6</th>\n",
       "      <td>0.077687</td>\n",
       "      <td>0.077718</td>\n",
       "    </tr>\n",
       "    <tr>\n",
       "      <th>11</th>\n",
       "      <td>0.067845</td>\n",
       "      <td>0.067834</td>\n",
       "    </tr>\n",
       "    <tr>\n",
       "      <th>12</th>\n",
       "      <td>0.061982</td>\n",
       "      <td>0.061982</td>\n",
       "    </tr>\n",
       "  </tbody>\n",
       "</table>\n",
       "</div>"
      ],
      "text/plain": [
       "    test_set  train_set\n",
       "7   0.101390   0.101401\n",
       "8   0.094229   0.094219\n",
       "10  0.093350   0.093329\n",
       "1   0.089455   0.089465\n",
       "5   0.086314   0.086303\n",
       "3   0.085686   0.085686\n",
       "4   0.083759   0.083749\n",
       "2   0.079571   0.079550\n",
       "9   0.078734   0.078765\n",
       "6   0.077687   0.077718\n",
       "11  0.067845   0.067834\n",
       "12  0.061982   0.061982"
      ]
     },
     "execution_count": 19,
     "metadata": {},
     "output_type": "execute_result"
    }
   ],
   "source": [
    "pd.DataFrame({\"test_set\":test_set[\"month\"].value_counts() / len(test_set),\"train_set\":train_set[\"month\"].value_counts() / len(train_set)})"
   ]
  },
  {
   "cell_type": "markdown",
   "id": "1b956a72",
   "metadata": {
    "papermill": {
     "duration": 0.048707,
     "end_time": "2022-06-25T17:35:56.941705",
     "exception": false,
     "start_time": "2022-06-25T17:35:56.892998",
     "status": "completed"
    },
    "tags": []
   },
   "source": [
    "*Seperating features and label*"
   ]
  },
  {
   "cell_type": "code",
   "execution_count": 20,
   "id": "803fd4e9",
   "metadata": {
    "execution": {
     "iopub.execute_input": "2022-06-25T17:35:57.121512Z",
     "iopub.status.busy": "2022-06-25T17:35:57.120727Z",
     "iopub.status.idle": "2022-06-25T17:35:57.162392Z",
     "shell.execute_reply": "2022-06-25T17:35:57.161718Z",
     "shell.execute_reply.started": "2022-06-25T17:05:46.488071Z"
    },
    "papermill": {
     "duration": 0.17071,
     "end_time": "2022-06-25T17:35:57.162594",
     "exception": false,
     "start_time": "2022-06-25T17:35:56.991884",
     "status": "completed"
    },
    "tags": []
   },
   "outputs": [],
   "source": [
    "x_train = train_set.drop(\"is_canceled\", axis=1)\n",
    "y_train = train_set[\"is_canceled\"].copy()\n",
    "x_test = test_set.drop(\"is_canceled\", axis=1)\n",
    "y_test = test_set[\"is_canceled\"].copy()\n",
    "\n",
    "x_train1 = train_set1.drop(\"is_canceled\", axis=1)\n",
    "y_train1 = train_set1[\"is_canceled\"].copy()\n",
    "x_test1 = test_set1.drop(\"is_canceled\", axis=1)\n",
    "y_test1 = test_set1[\"is_canceled\"].copy()"
   ]
  },
  {
   "cell_type": "markdown",
   "id": "e3dc9fde",
   "metadata": {
    "papermill": {
     "duration": 0.048457,
     "end_time": "2022-06-25T17:35:57.260602",
     "exception": false,
     "start_time": "2022-06-25T17:35:57.212145",
     "status": "completed"
    },
    "tags": []
   },
   "source": [
    "***Logistic Regression***"
   ]
  },
  {
   "cell_type": "code",
   "execution_count": 21,
   "id": "c1bf29a5",
   "metadata": {
    "execution": {
     "iopub.execute_input": "2022-06-25T17:35:57.364729Z",
     "iopub.status.busy": "2022-06-25T17:35:57.363822Z",
     "iopub.status.idle": "2022-06-25T17:36:19.700746Z",
     "shell.execute_reply": "2022-06-25T17:36:19.702032Z",
     "shell.execute_reply.started": "2022-06-25T17:05:46.59707Z"
    },
    "papermill": {
     "duration": 22.393176,
     "end_time": "2022-06-25T17:36:19.702374",
     "exception": false,
     "start_time": "2022-06-25T17:35:57.309198",
     "status": "completed"
    },
    "tags": []
   },
   "outputs": [
    {
     "name": "stdout",
     "output_type": "stream",
     "text": [
      "Accuracy with ONE_HOT_ENCODING: 0.9262919842532875\n",
      "Accuracy with ORDINAL_ENCODING: 0.9317363263254879\n"
     ]
    }
   ],
   "source": [
    "from sklearn.linear_model import LogisticRegression\n",
    "logisticReg = LogisticRegression(solver='liblinear').fit(x_train, y_train)\n",
    "logisticReg1 = LogisticRegression(solver='liblinear').fit(x_train1, y_train1)\n",
    "\n",
    "pred = logisticReg.predict(x_test)\n",
    "pred1 = logisticReg1.predict(x_test1)\n",
    "\n",
    "from sklearn.metrics import accuracy_score\n",
    "print(f\"Accuracy with ONE_HOT_ENCODING: {accuracy_score(y_test, pred)}\")\n",
    "print(f\"Accuracy with ORDINAL_ENCODING: {accuracy_score(y_test1, pred1)}\")"
   ]
  },
  {
   "cell_type": "markdown",
   "id": "e745b390",
   "metadata": {
    "papermill": {
     "duration": 0.051839,
     "end_time": "2022-06-25T17:36:19.855749",
     "exception": false,
     "start_time": "2022-06-25T17:36:19.803910",
     "status": "completed"
    },
    "tags": []
   },
   "source": [
    "***KNN Classifier***"
   ]
  },
  {
   "cell_type": "code",
   "execution_count": 22,
   "id": "d52f4b88",
   "metadata": {
    "execution": {
     "iopub.execute_input": "2022-06-25T17:36:19.965143Z",
     "iopub.status.busy": "2022-06-25T17:36:19.964189Z",
     "iopub.status.idle": "2022-06-25T17:36:46.942967Z",
     "shell.execute_reply": "2022-06-25T17:36:46.943479Z",
     "shell.execute_reply.started": "2022-06-25T17:06:07.275949Z"
    },
    "papermill": {
     "duration": 27.03681,
     "end_time": "2022-06-25T17:36:46.943715",
     "exception": false,
     "start_time": "2022-06-25T17:36:19.906905",
     "status": "completed"
    },
    "tags": []
   },
   "outputs": [
    {
     "name": "stdout",
     "output_type": "stream",
     "text": [
      "ONE_HOT_ENCODING: 0.8919507496440238\n",
      "ORDINAL_ENCODING: 0.8566881648379261\n"
     ]
    }
   ],
   "source": [
    "from sklearn.neighbors import KNeighborsClassifier\n",
    "knn = KNeighborsClassifier().fit(x_train, y_train)\n",
    "knn1 = KNeighborsClassifier().fit(x_train1, y_train1)\n",
    "\n",
    "pred = knn.predict(x_test)\n",
    "pred1 = knn1.predict(x_test1)\n",
    "\n",
    "print(f\"ONE_HOT_ENCODING: {accuracy_score(y_test, pred)}\")\n",
    "print(f\"ORDINAL_ENCODING: {accuracy_score(y_test1, pred1)}\")"
   ]
  },
  {
   "cell_type": "markdown",
   "id": "ce975178",
   "metadata": {
    "papermill": {
     "duration": 0.05221,
     "end_time": "2022-06-25T17:36:47.046609",
     "exception": false,
     "start_time": "2022-06-25T17:36:46.994399",
     "status": "completed"
    },
    "tags": []
   },
   "source": [
    "***Random Forest Classifier***"
   ]
  },
  {
   "cell_type": "code",
   "execution_count": 23,
   "id": "cd7b5975",
   "metadata": {
    "execution": {
     "iopub.execute_input": "2022-06-25T17:36:47.160079Z",
     "iopub.status.busy": "2022-06-25T17:36:47.157211Z",
     "iopub.status.idle": "2022-06-25T17:37:26.302425Z",
     "shell.execute_reply": "2022-06-25T17:37:26.303015Z",
     "shell.execute_reply.started": "2022-06-25T17:06:34.641969Z"
    },
    "papermill": {
     "duration": 39.202904,
     "end_time": "2022-06-25T17:37:26.303214",
     "exception": false,
     "start_time": "2022-06-25T17:36:47.100310",
     "status": "completed"
    },
    "tags": []
   },
   "outputs": [
    {
     "name": "stdout",
     "output_type": "stream",
     "text": [
      "Accuracy ONE_HOT_ENCODING: 0.9487813049669152\n",
      "Accuracy ORDINAL_ENCODING: 0.9569478180752157\n"
     ]
    }
   ],
   "source": [
    "from sklearn.ensemble import RandomForestClassifier\n",
    "clf = RandomForestClassifier().fit(x_train, y_train)\n",
    "clf1 = RandomForestClassifier().fit(x_train1, y_train1)\n",
    "\n",
    "pred = clf.predict(x_test)\n",
    "pred1 = clf1.predict(x_test1)\n",
    "\n",
    "print(f\"Accuracy ONE_HOT_ENCODING: {accuracy_score(y_test, pred)}\")\n",
    "print(f\"Accuracy ORDINAL_ENCODING: {accuracy_score(y_test1, pred1)}\")"
   ]
  },
  {
   "cell_type": "markdown",
   "id": "598f8649",
   "metadata": {
    "papermill": {
     "duration": 0.053014,
     "end_time": "2022-06-25T17:37:26.409750",
     "exception": false,
     "start_time": "2022-06-25T17:37:26.356736",
     "status": "completed"
    },
    "tags": []
   },
   "source": [
    "***CatBoost Classifier***"
   ]
  },
  {
   "cell_type": "code",
   "execution_count": 24,
   "id": "77611453",
   "metadata": {
    "execution": {
     "iopub.execute_input": "2022-06-25T17:37:26.517411Z",
     "iopub.status.busy": "2022-06-25T17:37:26.516719Z",
     "iopub.status.idle": "2022-06-25T17:38:00.614324Z",
     "shell.execute_reply": "2022-06-25T17:38:00.614921Z",
     "shell.execute_reply.started": "2022-06-25T17:07:14.58127Z"
    },
    "papermill": {
     "duration": 34.15483,
     "end_time": "2022-06-25T17:38:00.615128",
     "exception": false,
     "start_time": "2022-06-25T17:37:26.460298",
     "status": "completed"
    },
    "tags": []
   },
   "outputs": [
    {
     "name": "stdout",
     "output_type": "stream",
     "text": [
      "Accuracy with ONE_HOT_ENCODING: 0.9984085769327414\n",
      "Accuracy with ORDINAL_ENCODING: 0.9991205293575677\n"
     ]
    }
   ],
   "source": [
    "from catboost import CatBoostClassifier\n",
    "clf = CatBoostClassifier(verbose=False).fit(x_train, y_train)\n",
    "clf1 = CatBoostClassifier(verbose=False).fit(x_train1, y_train1)\n",
    "\n",
    "pred = clf.predict(x_test)\n",
    "pred1 = clf1.predict(x_test1)\n",
    "\n",
    "print(f\"Accuracy with ONE_HOT_ENCODING: {accuracy_score(y_test, pred)}\")\n",
    "print(f\"Accuracy with ORDINAL_ENCODING: {accuracy_score(y_test1, pred1)}\")"
   ]
  },
  {
   "cell_type": "code",
   "execution_count": null,
   "id": "8c5c581a",
   "metadata": {
    "papermill": {
     "duration": 0.051344,
     "end_time": "2022-06-25T17:38:00.719159",
     "exception": false,
     "start_time": "2022-06-25T17:38:00.667815",
     "status": "completed"
    },
    "tags": []
   },
   "outputs": [],
   "source": []
  },
  {
   "cell_type": "code",
   "execution_count": null,
   "id": "6f08f89b",
   "metadata": {
    "papermill": {
     "duration": 0.051316,
     "end_time": "2022-06-25T17:38:00.824447",
     "exception": false,
     "start_time": "2022-06-25T17:38:00.773131",
     "status": "completed"
    },
    "tags": []
   },
   "outputs": [],
   "source": []
  },
  {
   "cell_type": "code",
   "execution_count": null,
   "id": "74cd8731",
   "metadata": {
    "papermill": {
     "duration": 0.052395,
     "end_time": "2022-06-25T17:38:00.928225",
     "exception": false,
     "start_time": "2022-06-25T17:38:00.875830",
     "status": "completed"
    },
    "tags": []
   },
   "outputs": [],
   "source": []
  }
 ],
 "metadata": {
  "kernelspec": {
   "display_name": "Python 3",
   "language": "python",
   "name": "python3"
  },
  "language_info": {
   "codemirror_mode": {
    "name": "ipython",
    "version": 3
   },
   "file_extension": ".py",
   "mimetype": "text/x-python",
   "name": "python",
   "nbconvert_exporter": "python",
   "pygments_lexer": "ipython3",
   "version": "3.7.12"
  },
  "papermill": {
   "default_parameters": {},
   "duration": 146.242862,
   "end_time": "2022-06-25T17:38:01.793013",
   "environment_variables": {},
   "exception": null,
   "input_path": "__notebook__.ipynb",
   "output_path": "__notebook__.ipynb",
   "parameters": {},
   "start_time": "2022-06-25T17:35:35.550151",
   "version": "2.3.3"
  }
 },
 "nbformat": 4,
 "nbformat_minor": 5
}
